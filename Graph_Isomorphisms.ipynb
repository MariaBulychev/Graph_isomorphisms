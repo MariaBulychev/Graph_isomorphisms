{
  "nbformat": 4,
  "nbformat_minor": 0,
  "metadata": {
    "colab": {
      "name": "Graph_Isomorphisms.ipynb",
      "provenance": [],
      "authorship_tag": "ABX9TyMTQe/KfFe+PvmV0gl/obY5",
      "include_colab_link": true
    },
    "kernelspec": {
      "name": "python3",
      "display_name": "Python 3"
    },
    "language_info": {
      "name": "python"
    }
  },
  "cells": [
    {
      "cell_type": "markdown",
      "metadata": {
        "id": "view-in-github",
        "colab_type": "text"
      },
      "source": [
        "<a href=\"https://colab.research.google.com/github/MariaBulychev/Graph_isomorphisms/blob/main/Graph_Isomorphisms.ipynb\" target=\"_parent\"><img src=\"https://colab.research.google.com/assets/colab-badge.svg\" alt=\"Open In Colab\"/></a>"
      ]
    },
    {
      "cell_type": "code",
      "execution_count": null,
      "metadata": {
        "id": "wsar-4cUBrI6"
      },
      "outputs": [],
      "source": [
        "import numpy as np\n",
        "import itertools\n"
      ]
    },
    {
      "cell_type": "code",
      "source": [
        "class vertex:\n",
        "\n",
        "  def __init__(self, label):\n",
        "    self.label = label\n",
        "    self.color = 'c0'\n",
        "\n",
        "class edge:\n",
        "\n",
        "  def __init__(self, vertices):\n",
        "    self.vertices = vertices\n",
        "    self.color = 'r'\n",
        "\n",
        "class CubeGraph:\n",
        "  '''\n",
        "  Creates the cube graph Q_n with 2^n nodes. \n",
        "  The vertices are labeled from 0 to 2^n-1 in binary. \n",
        "  Two nodes are connected by an edge if they differ in exactly one bit.  \n",
        "  '''  \n",
        "   \n",
        "\n",
        "  def neighbors(self, node1, node2):\n",
        "    count_diffs = 0\n",
        "    for a, b in zip(node1, node2):\n",
        "        if a!=b:\n",
        "            if count_diffs: return False\n",
        "            count_diffs += 1\n",
        "    return True\n",
        "\n",
        "  def generate_edges(self):\n",
        "    for i in range( self.number_of_vertices ):\n",
        "      node1 = self.vertices[i]\n",
        "      label1 = node1.label\n",
        "      for j in range(i+1, self.number_of_vertices):\n",
        "        node2 = self.vertices[j]\n",
        "        label2 = node2.label\n",
        "        if self.neighbors(label1, label2):\n",
        "          self.edges.append((node1, node2))\n",
        "\n",
        "  def __init__(self, n):\n",
        "      self.n = n \n",
        "      self.number_of_vertices = 2**n\n",
        "\n",
        "      vertex_list = []\n",
        "      # generate vertices\n",
        "      temp = []\n",
        "      for i in range(n+1):\n",
        "        temp = i*str(1) + (n-i)*str(0)\n",
        "        permutations = list((itertools.permutations(temp)))\n",
        "        for elem in set(permutations):\n",
        "          vertex_list.append(vertex(''.join(elem)))\n",
        "      self.vertices = vertex_list\n",
        "      \n",
        "      # generate edges\n",
        "      \n",
        "      self.edges = []\n",
        "      self.generate_edges()\n",
        "      \n",
        "      \n",
        "           \n",
        "\n"
      ],
      "metadata": {
        "id": "lNQXP3AjBy33"
      },
      "execution_count": null,
      "outputs": []
    },
    {
      "cell_type": "code",
      "source": [
        "graph = CubeGraph(4)\n",
        "print(graph.n)\n",
        "print(graph.number_of_vertices)\n",
        "for elem in graph.vertices:\n",
        "  print(elem.label)\n",
        "print(len(graph.vertices))\n",
        "for elem in graph.edges:\n",
        "  print(elem[0].label, elem[1].label)\n",
        "print(len(graph.edges))"
      ],
      "metadata": {
        "colab": {
          "base_uri": "https://localhost:8080/"
        },
        "id": "8sLnWIZdqmeG",
        "outputId": "482102dc-7237-4328-c210-586f922ad1a7"
      },
      "execution_count": null,
      "outputs": [
        {
          "output_type": "stream",
          "name": "stdout",
          "text": [
            "4\n",
            "16\n",
            "0000\n",
            "0100\n",
            "1000\n",
            "0010\n",
            "0001\n",
            "1100\n",
            "1010\n",
            "0101\n",
            "0011\n",
            "1001\n",
            "0110\n",
            "1011\n",
            "1110\n",
            "0111\n",
            "1101\n",
            "1111\n",
            "16\n",
            "0000 0100\n",
            "0000 1000\n",
            "0000 0010\n",
            "0000 0001\n",
            "0100 1100\n",
            "0100 0101\n",
            "0100 0110\n",
            "1000 1100\n",
            "1000 1010\n",
            "1000 1001\n",
            "0010 1010\n",
            "0010 0011\n",
            "0010 0110\n",
            "0001 0101\n",
            "0001 0011\n",
            "0001 1001\n",
            "1100 1110\n",
            "1100 1101\n",
            "1010 1011\n",
            "1010 1110\n",
            "0101 0111\n",
            "0101 1101\n",
            "0011 1011\n",
            "0011 0111\n",
            "1001 1011\n",
            "1001 1101\n",
            "0110 1110\n",
            "0110 0111\n",
            "1011 1111\n",
            "1110 1111\n",
            "0111 1111\n",
            "1101 1111\n",
            "32\n"
          ]
        }
      ]
    },
    {
      "cell_type": "code",
      "source": [
        "string1 = '001'\n",
        "string2 = '111'\n",
        "count_diffs = 0\n",
        "for a, b in zip(string1, string2):\n",
        "    if a!=b:\n",
        "        if count_diffs: # wenn es schon 1 war\n",
        "          print(False)\n",
        "        count_diffs += 1\n",
        "print(True)"
      ],
      "metadata": {
        "colab": {
          "base_uri": "https://localhost:8080/"
        },
        "id": "ByJZTBXS7vcp",
        "outputId": "eecaaaf8-f938-42ce-84cb-fbcc68093f03"
      },
      "execution_count": null,
      "outputs": [
        {
          "output_type": "stream",
          "name": "stdout",
          "text": [
            "False\n",
            "True\n"
          ]
        }
      ]
    },
    {
      "cell_type": "code",
      "source": [
        "temp = '001'\n",
        "permutations = list((itertools.permutations(temp)))\n",
        "print(permutations[i])"
      ],
      "metadata": {
        "colab": {
          "base_uri": "https://localhost:8080/"
        },
        "id": "muAnZciRQt18",
        "outputId": "c0cbbf3a-5ac9-4426-85cd-1225ba392d8b"
      },
      "execution_count": null,
      "outputs": [
        {
          "output_type": "stream",
          "name": "stdout",
          "text": [
            "[('0', '0', '1'), ('0', '1', '0'), ('0', '0', '1'), ('0', '1', '0'), ('1', '0', '0'), ('1', '0', '0')]\n"
          ]
        }
      ]
    }
  ]
}