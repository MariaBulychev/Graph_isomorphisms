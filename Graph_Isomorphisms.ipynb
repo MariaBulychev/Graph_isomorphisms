{
  "nbformat": 4,
  "nbformat_minor": 0,
  "metadata": {
    "colab": {
      "name": "Graph_Isomorphisms.ipynb",
      "provenance": [],
      "authorship_tag": "ABX9TyOBAAqxrH074PPNemrZ73KR",
      "include_colab_link": true
    },
    "kernelspec": {
      "name": "python3",
      "display_name": "Python 3"
    },
    "language_info": {
      "name": "python"
    }
  },
  "cells": [
    {
      "cell_type": "markdown",
      "metadata": {
        "id": "view-in-github",
        "colab_type": "text"
      },
      "source": [
        "<a href=\"https://colab.research.google.com/github/MariaBulychev/Graph_isomorphisms/blob/main/Graph_Isomorphisms.ipynb\" target=\"_parent\"><img src=\"https://colab.research.google.com/assets/colab-badge.svg\" alt=\"Open In Colab\"/></a>"
      ]
    },
    {
      "cell_type": "code",
      "execution_count": null,
      "metadata": {
        "id": "wsar-4cUBrI6"
      },
      "outputs": [],
      "source": [
        "import numpy as np\n",
        "import itertools\n"
      ]
    },
    {
      "cell_type": "code",
      "source": [
        "class vertex:\n",
        "  '''\n",
        "  Creates a vertex with a label and a color.\n",
        "  Default color: color 0 ('0')\n",
        "  '''\n",
        "  def __init__(self, label):\n",
        "    self.label = label\n",
        "    self.color = 0\n",
        "\n",
        "class edge:\n",
        "  '''\n",
        "  Creates an edge between two vertices.\n",
        "  Default color: red ('r')\n",
        "  '''\n",
        "  def __init__(self, vertices):\n",
        "    self.vertices = vertices\n",
        "    self.color = 'r'\n",
        "\n",
        "class CubeGraph:\n",
        "  '''\n",
        "  Creates the cube graph Q_n with 2^n nodes and 2^(n-1)*n. \n",
        "  The vertices are labeled from 0 to 2^n-1 in binary. \n",
        "  Two nodes are connected by an edge if they differ in exactly one bit.  \n",
        "  '''     \n",
        "\n",
        "  def neighbors(self, node1, node2):\n",
        "    count_diffs = 0\n",
        "    for a, b in zip(node1, node2):\n",
        "        if a!=b:\n",
        "            if count_diffs: return False\n",
        "            count_diffs += 1\n",
        "    return True\n",
        "\n",
        "  def generate_edges(self):\n",
        "    for i in range( self.number_of_vertices ):\n",
        "      node1 = self.vertices[i]\n",
        "      label1 = node1.label\n",
        "      for j in range(i+1, self.number_of_vertices):\n",
        "        node2 = self.vertices[j]\n",
        "        label2 = node2.label\n",
        "        if self.neighbors(label1, label2):\n",
        "          self.edges.append(edge([node1, node2]))\n",
        "\n",
        "  def __init__(self, n):\n",
        "      self.n = n \n",
        "      self.number_of_vertices = 2**n\n",
        "\n",
        "      vertex_list = []\n",
        "      # generate vertices\n",
        "      temp = []\n",
        "      for i in range(n+1):\n",
        "        temp = i*str(1) + (n-i)*str(0)\n",
        "        permutations = list((itertools.permutations(temp)))\n",
        "        for elem in set(permutations):\n",
        "          vertex_list.append(vertex(''.join(elem)))\n",
        "      self.vertices = vertex_list\n",
        "      \n",
        "      # generate edges      \n",
        "      self.edges = []\n",
        "      self.generate_edges()\n",
        "      self.number_of_edges = 2**(n-1) * n\n"
      ],
      "metadata": {
        "id": "lNQXP3AjBy33"
      },
      "execution_count": null,
      "outputs": []
    },
    {
      "cell_type": "code",
      "source": [
        "class Hypercube():\n",
        "  '''\n",
        "  Creates a Hypercube of dimension n out of two Hypercubes of dimension n-1.\n",
        "  This is needed to create all possible colorings \n",
        "  '''\n",
        "\n",
        "  def __init__(self, cube_0, cube_1):\n",
        "    self.number_of_vertices = cube_0.number_of_vertices * 2\n",
        "    self.number_of_edges = cube_0.number_of_edges * 2 + cube_0.number_of_vertices # jeder Knoten wird mit seiner Kopie verbunden\n",
        "    \n",
        "    # generate vertices\n",
        "    self.vertices = []\n",
        "    self.edges = []\n",
        "\n",
        "    # alle Knoten vorne ne 1 \n",
        "    for i in range(cube_0.number_of_vertices):\n",
        "      cube_0.vertices[i].label = '0'+ cube_0.vertices[i].label # damit müsste es sich auch bei den Kanten schon geändert haben \n",
        "      cube_1.vertices[i].label = '1'+ cube_1.vertices[i].label\n",
        "      self.vertices.append(cube_0.vertices[i])\n",
        "      self.vertices.append(cube_1.vertices[i])\n",
        "      self.edges.append(edge([cube_0.vertices[i],cube_1.vertices[i]]))\n",
        "    self.edges = self.edges + cube_0.edges + cube_1.edges\n",
        "\n",
        "    self.n = cube_0.n + 1\n",
        "\n"
      ],
      "metadata": {
        "id": "YZ-ryzk_WU0U"
      },
      "execution_count": null,
      "outputs": []
    },
    {
      "cell_type": "code",
      "source": [
        "graph = Hypercube(CubeGraph(2),CubeGraph(2))\n",
        "#print(graph.n)\n",
        "print(graph.number_of_vertices)\n",
        "for elem in graph.vertices:\n",
        "  print(elem.label)\n",
        "  \n",
        "for elem in graph.edges:\n",
        "  print(elem.vertices[0].label, elem.vertices[1].label)\n",
        "print(len(graph.edges))"
      ],
      "metadata": {
        "id": "UTs6XK0QbCZO"
      },
      "execution_count": null,
      "outputs": []
    },
    {
      "cell_type": "code",
      "source": [
        "# generate all possible 2-colorings of Q_n\n",
        "\n",
        "def two_colorings(n):\n",
        "  '''\n",
        "  Creates all possible 2-colorings of Q_n\n",
        "  Output: list of Graph objects whose edges are colored red and blue\n",
        "  '''\n",
        "  # triviale Fälle (nur 1 Objekt erzeugen, braucht nicht auf Isomorphie geprüft werden):\n",
        "  # 0 blaue Kanten, 1 blaue Kante, alle außer einer Kante blau, alle Kanten blau\n",
        "\n",
        "  number_of_edges = 2**(n-1) * n\n",
        "\n",
        "  # erstelle eine liste mit k 'b' und n-k 'r', davon alle Permutationen (set) \n",
        "  # gehe durch Liste, erstelle jeweils einen CubeGraph dessen Kanten so eingefärbt sind\n",
        "\n",
        "  all_colorings = [] # wird z.B. ['brrr', 'brbr', 'bbrr', 'rbrb', 'rrbb', 'brrb', 'rbbr', 'bbbr', 'bbbb']\n",
        "\n",
        "  for i in range(0,(number_of_edges//2)+1):\n",
        "    temp = i*'b' + (number_of_edges-i)*'r'\n",
        "    if (number_of_edges-1) > i > 1: \n",
        "      permutations = list((itertools.permutations(temp)))\n",
        "      for elem in set(permutations):\n",
        "            all_colorings.append(''.join(elem))\n",
        "    else:\n",
        "      all_colorings.append(temp)\n",
        "    print(all_colorings)\n",
        "\n",
        "  # aus der colorings liste Kanten-Gefärbte Graphen\n",
        "\n",
        "  two_colorings_list = [] \n",
        "\n",
        "  for coloring in all_colorings:\n",
        "    graph = CubeGraph(n)\n",
        "    for i in range(len(coloring)):\n",
        "      graph.edges[i].color = coloring[i]\n",
        "    two_colorings_list.append(graph)\n",
        "    for j in range(number_of_edges):\n",
        "      print('edge ('+str(graph.edges[j].vertices[0].label)+','+str(graph.edges[j].vertices[1].label)+') color: '+str(graph.edges[j].color))\n",
        "    print('---')\n",
        "\n",
        "  return two_colorings_list\n",
        "  '''\n",
        "  #test\n",
        "  for i in range(len(two_colorings_list)):\n",
        "    print('coloring '+str(i)+': ')\n",
        "    print(all_colorings[i])\n",
        "    for j in range(number_of_edges):\n",
        "      print('edge ('+str(two_colorings_list[i].edges[j].vertices[0].label)+','+str(two_colorings_list[i].edges[j].vertices[1].label)+') color: '+str(two_colorings_list[i].edges[j].color))\n",
        "  '''  "
      ],
      "metadata": {
        "id": "HfXOIeEr6fly"
      },
      "execution_count": null,
      "outputs": []
    },
    {
      "cell_type": "code",
      "source": [
        "graph_list = two_colorings(2)"
      ],
      "metadata": {
        "colab": {
          "base_uri": "https://localhost:8080/"
        },
        "id": "6KR_uz9RTc9_",
        "outputId": "20d84978-1696-4c68-c4f1-a0db10624498"
      },
      "execution_count": null,
      "outputs": [
        {
          "output_type": "stream",
          "name": "stdout",
          "text": [
            "['rrrr']\n",
            "['rrrr', 'brrr']\n",
            "['rrrr', 'brrr', 'brbr', 'bbrr', 'brrb', 'rbrb', 'rrbb', 'rbbr']\n",
            "edge (00,01) color: r\n",
            "edge (00,10) color: r\n",
            "edge (01,11) color: r\n",
            "edge (10,11) color: r\n",
            "---\n",
            "edge (00,01) color: b\n",
            "edge (00,10) color: r\n",
            "edge (01,11) color: r\n",
            "edge (10,11) color: r\n",
            "---\n",
            "edge (00,01) color: b\n",
            "edge (00,10) color: r\n",
            "edge (01,11) color: b\n",
            "edge (10,11) color: r\n",
            "---\n",
            "edge (00,01) color: b\n",
            "edge (00,10) color: b\n",
            "edge (01,11) color: r\n",
            "edge (10,11) color: r\n",
            "---\n",
            "edge (00,01) color: b\n",
            "edge (00,10) color: r\n",
            "edge (01,11) color: r\n",
            "edge (10,11) color: b\n",
            "---\n",
            "edge (00,01) color: r\n",
            "edge (00,10) color: b\n",
            "edge (01,11) color: r\n",
            "edge (10,11) color: b\n",
            "---\n",
            "edge (00,01) color: r\n",
            "edge (00,10) color: r\n",
            "edge (01,11) color: b\n",
            "edge (10,11) color: b\n",
            "---\n",
            "edge (00,01) color: r\n",
            "edge (00,10) color: b\n",
            "edge (01,11) color: b\n",
            "edge (10,11) color: r\n",
            "---\n"
          ]
        }
      ]
    },
    {
      "cell_type": "code",
      "source": [
        "def equitable_partition(graph, unique_node=None, partition=None):\n",
        "  '''\n",
        "  refines the graph wrt. q yielding an equitable partition\n",
        "  \"unique_node\" will be the only node of this color \n",
        "  '''\n",
        "  c_max = len(partition) # naechste Farbe die zugewiesen wird \n",
        "  q = unique_node.color\n",
        "\n",
        "  # neue Partition = alte bis q + [q] + alles danach + alle die in q drin waren \n",
        "\n",
        "  temp_list = partition[q].copy()\n",
        "  temp_list.remove(unique_node)\n",
        "\n",
        "  partition = partition[:q] + [[unique_node]] + partition[(q+1):] + [temp_list]\n",
        "\n",
        "  for node in partition[-1]: # all nodes having the same color as unique_node\n",
        "    # alle aus der liste raushauen\n",
        "    node.color = c_max\n",
        "\n",
        "  queue = [q,c_max] # c_max ist die neue Farbe der Knoten, die vorher q als Farbe hatten\n",
        "\n",
        "  c_max += 1\n",
        "  # for each color c split the vertices v of this color according to the number D(v) of neighbors of color q they have\n",
        "\n",
        "  while len(queue) != 0:\n",
        "    target_color = queue.pop(0) \n",
        "\n",
        "    for c in range(c_max): # zähle bei jeder Farbe wie viele Nachbarn der Farbe target_color sie hat \n",
        "      if c != target_color:\n",
        "        if len(partition[c]) > 1:\n",
        "          D = [[] for i in range (graph.n)] # im Würfel kann jeder höchstens n Nachbarn haben \n",
        "          # gehe alle seine Nachbarn durch \n",
        "          for node_c in partition[c]:\n",
        "            count = 0\n",
        "            for node_t in partition[target_color]:\n",
        "              if graph_neighbors(node_c.label, node_t.label):\n",
        "                count += 1\n",
        "            D[count].append(node_c)\n",
        "          \n",
        "          # der Eintrag von D der die maximale Länge hat, behält die alte Farbe, alle anderen bekommen neue\n",
        "          if non_empty_length(D) > 1:\n",
        "            d = longestEntry(D)\n",
        "            partition = partition[:c] + [D[d]] + partition[(c+1):] \n",
        "\n",
        "            del D[d]\n",
        "            for elem in D: # jede Farbklasse von D\n",
        "              if elem != []:\n",
        "                for n in elem:  # Knoten in Farbklasse\n",
        "                  n.color = c_max \n",
        "                queue.append(c_max)\n",
        "                c_max += 1 \n",
        "                partition = partition + [elem]\n",
        "\n",
        "def longestEntry(L):\n",
        "  '''\n",
        "  return the index of the longest entry of a list L \n",
        "  ''' \n",
        "  max1 = len(L[0]) \n",
        "  temp_idx = 0   \n",
        "  \n",
        "  for i in range(len(L)): \n",
        "      if(len(L[i]) > max1): \n",
        "\n",
        "          max1 = len(L[i]) \n",
        "          temp_idx = i \n",
        "  return temp_idx\n",
        "\n",
        "def non_empty_length(L):\n",
        "  '''\n",
        "  input: List of lists e.g. L =[ [],[1,2],[3],[] ]\n",
        "  output: The number of non-empty entries e.g. for L it would be 2\n",
        "  '''\n",
        "  length = 0\n",
        "  for elem in L:\n",
        "    if elem != []:\n",
        "      length +=1\n",
        "  return length\n",
        "\n",
        "\n",
        "def graph_neighbors(node1, node2):\n",
        "    count_diffs = 0\n",
        "    for a, b in zip(node1, node2):\n",
        "        if a!=b:\n",
        "            if count_diffs: return False\n",
        "            count_diffs += 1\n",
        "    return True"
      ],
      "metadata": {
        "id": "1p2VKlCne2tg"
      },
      "execution_count": null,
      "outputs": []
    },
    {
      "cell_type": "code",
      "source": [
        "# test of equitable partition:\n",
        "graph = CubeGraph(3)\n",
        "blue = [{'000','100'},{'100','101'},{'100','110'},{'101','111'},{'110','111'},{'111','011'}]\n",
        "\n",
        "for elem in graph.edges:\n",
        "  print(elem.vertices[0].label, elem.vertices[1].label)\n",
        "  if {elem.vertices[0].label, elem.vertices[1].label} in blue: \n",
        "    elem.color = 'b'\n",
        "    print('blue')\n",
        "\n",
        "active_nodes = []\n",
        "for elem in graph.edges:\n",
        "  if elem.color == 'b':\n",
        "    n1, n2 = elem.vertices[0], elem.vertices[1]\n",
        "    if n1 not in active_nodes:\n",
        "      active_nodes.append(n1)\n",
        "      if n1.label == '000':\n",
        "        unique_node = n1\n",
        "    if n2 not in active_nodes:\n",
        "      active_nodes.append(n2)\n",
        "      if n2.label == '000':\n",
        "        unique_node = n2\n",
        "      \n",
        "# test \n",
        "print('active nodes: ')\n",
        "for elem in active_nodes:\n",
        "  print(elem.label)\n",
        "\n",
        "partition  = [active_nodes.copy()]\n",
        "\n",
        "print('partition')\n",
        "part = []\n",
        "for elem in partition: \n",
        "  liste = []\n",
        "  for n in elem:\n",
        "    liste.append(n.label)\n",
        "  part.append(liste)\n",
        "print(part)\n",
        "\n",
        "print('unique node: ' +str(unique_node.label))\n",
        "\n",
        "equitable_partition(graph, unique_node, partition)\n",
        "\n"
      ],
      "metadata": {
        "colab": {
          "base_uri": "https://localhost:8080/"
        },
        "id": "ICRGtiOxx7ly",
        "outputId": "c02b05b5-bdc7-40b9-b065-1bb372438970"
      },
      "execution_count": null,
      "outputs": [
        {
          "output_type": "stream",
          "name": "stdout",
          "text": [
            "000 100\n",
            "blue\n",
            "000 010\n",
            "000 001\n",
            "100 110\n",
            "blue\n",
            "100 101\n",
            "blue\n",
            "010 110\n",
            "010 011\n",
            "001 101\n",
            "001 011\n",
            "110 111\n",
            "blue\n",
            "101 111\n",
            "blue\n",
            "011 111\n",
            "blue\n",
            "active nodes: \n",
            "000\n",
            "100\n",
            "110\n",
            "101\n",
            "111\n",
            "011\n",
            "partition\n",
            "[['000', '100', '110', '101', '111', '011']]\n",
            "unique node: 000\n",
            "1\n",
            "queue: [0, 1]\n",
            "target color: 0\n",
            "partition\n",
            "[['000'], ['100', '110', '101', '111', '011']]\n",
            "node_c: 100\n",
            "node_t: 000\n",
            "count: 1\n",
            "count: 0\n",
            "count: 0\n",
            "count: 0\n",
            "count: 0\n",
            "vor non empty length: D= [[<__main__.vertex object at 0x7f05a98f1cd0>, <__main__.vertex object at 0x7f05a97ce6d0>, <__main__.vertex object at 0x7f05a994a290>, <__main__.vertex object at 0x7f05a994ad50>], [<__main__.vertex object at 0x7f05a97ae550>], []]\n",
            "[[<__main__.vertex object at 0x7f05a97ae450>], [<__main__.vertex object at 0x7f05a98f1cd0>, <__main__.vertex object at 0x7f05a97ce6d0>, <__main__.vertex object at 0x7f05a994a290>, <__main__.vertex object at 0x7f05a994ad50>]]\n",
            "[[<__main__.vertex object at 0x7f05a97ae450>], [<__main__.vertex object at 0x7f05a98f1cd0>, <__main__.vertex object at 0x7f05a97ce6d0>, <__main__.vertex object at 0x7f05a994a290>, <__main__.vertex object at 0x7f05a994ad50>], [<__main__.vertex object at 0x7f05a97ae550>]]\n",
            "2\n",
            "queue: [1, 2]\n",
            "target color: 1\n",
            "partition\n",
            "[['000'], ['110', '101', '111', '011'], ['100']]\n",
            "3\n",
            "queue: [2]\n",
            "target color: 2\n",
            "partition\n",
            "[['000'], ['110', '101', '111', '011'], ['100']]\n",
            "node_c: 110\n",
            "node_t: 100\n",
            "count: 1\n",
            "node_c: 101\n",
            "node_t: 100\n",
            "count: 1\n",
            "count: 0\n",
            "count: 0\n",
            "vor non empty length: D= [[<__main__.vertex object at 0x7f05a994a290>, <__main__.vertex object at 0x7f05a994ad50>], [<__main__.vertex object at 0x7f05a98f1cd0>, <__main__.vertex object at 0x7f05a97ce6d0>], []]\n",
            "[[<__main__.vertex object at 0x7f05a97ae450>], [<__main__.vertex object at 0x7f05a994a290>, <__main__.vertex object at 0x7f05a994ad50>], [<__main__.vertex object at 0x7f05a97ae550>]]\n",
            "[[<__main__.vertex object at 0x7f05a97ae450>], [<__main__.vertex object at 0x7f05a994a290>, <__main__.vertex object at 0x7f05a994ad50>], [<__main__.vertex object at 0x7f05a97ae550>], [<__main__.vertex object at 0x7f05a98f1cd0>, <__main__.vertex object at 0x7f05a97ce6d0>]]\n",
            "4\n",
            "queue: [3]\n",
            "target color: 3\n",
            "partition\n",
            "[['000'], ['111', '011'], ['100'], ['110', '101']]\n",
            "node_c: 111\n",
            "node_t: 110\n",
            "node_c: 111\n",
            "node_t: 101\n",
            "count: 2\n",
            "count: 0\n",
            "vor non empty length: D= [[<__main__.vertex object at 0x7f05a994ad50>], [], [<__main__.vertex object at 0x7f05a994a290>]]\n",
            "[[<__main__.vertex object at 0x7f05a97ae450>], [<__main__.vertex object at 0x7f05a994ad50>], [<__main__.vertex object at 0x7f05a97ae550>], [<__main__.vertex object at 0x7f05a98f1cd0>, <__main__.vertex object at 0x7f05a97ce6d0>]]\n",
            "[[<__main__.vertex object at 0x7f05a97ae450>], [<__main__.vertex object at 0x7f05a994ad50>], [<__main__.vertex object at 0x7f05a97ae550>], [<__main__.vertex object at 0x7f05a98f1cd0>, <__main__.vertex object at 0x7f05a97ce6d0>], [<__main__.vertex object at 0x7f05a994a290>]]\n",
            "5\n",
            "queue: [4]\n",
            "target color: 4\n",
            "partition\n",
            "[['000'], ['011'], ['100'], ['110', '101'], ['111']]\n",
            "node_c: 110\n",
            "node_t: 111\n",
            "count: 1\n",
            "node_c: 101\n",
            "node_t: 111\n",
            "count: 1\n",
            "vor non empty length: D= [[], [<__main__.vertex object at 0x7f05a98f1cd0>, <__main__.vertex object at 0x7f05a97ce6d0>], []]\n"
          ]
        }
      ]
    },
    {
      "cell_type": "code",
      "source": [
        "liste = [ [],[1,2],[3],[],[4] ]\n",
        "liste.del([])\n",
        "print(liste)"
      ],
      "metadata": {
        "colab": {
          "base_uri": "https://localhost:8080/",
          "height": 130
        },
        "id": "7-1U-jNm6c8F",
        "outputId": "60c81264-9048-40ef-f25a-69fb305b4d6e"
      },
      "execution_count": null,
      "outputs": [
        {
          "output_type": "error",
          "ename": "SyntaxError",
          "evalue": "ignored",
          "traceback": [
            "\u001b[0;36m  File \u001b[0;32m\"<ipython-input-123-2526c7d1d50e>\"\u001b[0;36m, line \u001b[0;32m2\u001b[0m\n\u001b[0;31m    liste.del([])\u001b[0m\n\u001b[0m            ^\u001b[0m\n\u001b[0;31mSyntaxError\u001b[0m\u001b[0;31m:\u001b[0m invalid syntax\n"
          ]
        }
      ]
    },
    {
      "cell_type": "code",
      "source": [
        "q = 1\n",
        "elem = 2\n",
        "liste = [ [0,1] , [2,3,4,5] ]\n",
        "neu = liste[:q] + [[elem]] + liste[(q+1):] + [liste[q]]\n",
        "print(neu)"
      ],
      "metadata": {
        "colab": {
          "base_uri": "https://localhost:8080/"
        },
        "id": "ASTEY1SJiwoJ",
        "outputId": "2405b607-f186-4254-bcf2-c021ca4430f2"
      },
      "execution_count": null,
      "outputs": [
        {
          "output_type": "stream",
          "name": "stdout",
          "text": [
            "[[0, 1], [2], [2, 3, 4, 5]]\n"
          ]
        }
      ]
    },
    {
      "cell_type": "code",
      "source": [
        "m= [[] for i in range(4)]\n",
        "\n",
        "set(m)"
      ],
      "metadata": {
        "colab": {
          "base_uri": "https://localhost:8080/",
          "height": 200
        },
        "id": "xSjbXWFwkyn9",
        "outputId": "5b7fb135-39ca-45a4-ed3b-f1869d3351ac"
      },
      "execution_count": null,
      "outputs": [
        {
          "output_type": "error",
          "ename": "TypeError",
          "evalue": "ignored",
          "traceback": [
            "\u001b[0;31m---------------------------------------------------------------------------\u001b[0m",
            "\u001b[0;31mTypeError\u001b[0m                                 Traceback (most recent call last)",
            "\u001b[0;32m<ipython-input-46-07617c414696>\u001b[0m in \u001b[0;36m<module>\u001b[0;34m()\u001b[0m\n\u001b[1;32m      1\u001b[0m \u001b[0mm\u001b[0m\u001b[0;34m=\u001b[0m \u001b[0;34m[\u001b[0m\u001b[0;34m[\u001b[0m\u001b[0;34m]\u001b[0m \u001b[0;32mfor\u001b[0m \u001b[0mi\u001b[0m \u001b[0;32min\u001b[0m \u001b[0mrange\u001b[0m\u001b[0;34m(\u001b[0m\u001b[0;36m4\u001b[0m\u001b[0;34m)\u001b[0m\u001b[0;34m]\u001b[0m\u001b[0;34m\u001b[0m\u001b[0;34m\u001b[0m\u001b[0m\n\u001b[1;32m      2\u001b[0m \u001b[0;34m\u001b[0m\u001b[0m\n\u001b[0;32m----> 3\u001b[0;31m \u001b[0mset\u001b[0m\u001b[0;34m(\u001b[0m\u001b[0mm\u001b[0m\u001b[0;34m)\u001b[0m\u001b[0;34m\u001b[0m\u001b[0;34m\u001b[0m\u001b[0m\n\u001b[0m",
            "\u001b[0;31mTypeError\u001b[0m: unhashable type: 'list'"
          ]
        }
      ]
    },
    {
      "cell_type": "code",
      "source": [
        "graph = CubeGraph(2)\n",
        "print(graph.n)\n",
        "print(graph.number_of_vertices)\n",
        "for elem in graph.vertices:\n",
        "  print(elem.label)\n",
        "print(len(graph.vertices))\n",
        "for elem in graph.edges:\n",
        "  print(elem.vertices[0].label, elem.vertices[1].label)\n",
        "print(len(graph.edges))"
      ],
      "metadata": {
        "id": "8sLnWIZdqmeG"
      },
      "execution_count": null,
      "outputs": []
    }
  ]
}