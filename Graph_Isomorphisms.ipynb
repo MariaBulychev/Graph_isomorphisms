{
  "nbformat": 4,
  "nbformat_minor": 0,
  "metadata": {
    "colab": {
      "name": "Graph_Isomorphisms.ipynb",
      "provenance": [],
      "authorship_tag": "ABX9TyPCW8twZaDqn3JbxtH86baY",
      "include_colab_link": true
    },
    "kernelspec": {
      "name": "python3",
      "display_name": "Python 3"
    },
    "language_info": {
      "name": "python"
    }
  },
  "cells": [
    {
      "cell_type": "markdown",
      "metadata": {
        "id": "view-in-github",
        "colab_type": "text"
      },
      "source": [
        "<a href=\"https://colab.research.google.com/github/MariaBulychev/Graph_isomorphisms/blob/main/Graph_Isomorphisms.ipynb\" target=\"_parent\"><img src=\"https://colab.research.google.com/assets/colab-badge.svg\" alt=\"Open In Colab\"/></a>"
      ]
    },
    {
      "cell_type": "code",
      "execution_count": 1,
      "metadata": {
        "id": "wsar-4cUBrI6"
      },
      "outputs": [],
      "source": [
        "import numpy as np\n",
        "import itertools\n"
      ]
    },
    {
      "cell_type": "code",
      "source": [
        "class vertex:\n",
        "  '''\n",
        "  Creates a vertex with a label and a color.\n",
        "  Default color: color0 ('c0')\n",
        "  '''\n",
        "  def __init__(self, label):\n",
        "    self.label = label\n",
        "    self.color = 'c0'\n",
        "\n",
        "class edge:\n",
        "  '''\n",
        "  Creates an edge between two vertices.\n",
        "  Default color: red ('r')\n",
        "  '''\n",
        "  def __init__(self, vertices):\n",
        "    self.vertices = vertices\n",
        "    self.color = 'r'\n",
        "\n",
        "class CubeGraph:\n",
        "  '''\n",
        "  Creates the cube graph Q_n with 2^n nodes and 2^(n-1)*n. \n",
        "  The vertices are labeled from 0 to 2^n-1 in binary. \n",
        "  Two nodes are connected by an edge if they differ in exactly one bit.  \n",
        "  '''     \n",
        "\n",
        "  def neighbors(self, node1, node2):\n",
        "    count_diffs = 0\n",
        "    for a, b in zip(node1, node2):\n",
        "        if a!=b:\n",
        "            if count_diffs: return False\n",
        "            count_diffs += 1\n",
        "    return True\n",
        "\n",
        "  def generate_edges(self):\n",
        "    for i in range( self.number_of_vertices ):\n",
        "      node1 = self.vertices[i]\n",
        "      label1 = node1.label\n",
        "      for j in range(i+1, self.number_of_vertices):\n",
        "        node2 = self.vertices[j]\n",
        "        label2 = node2.label\n",
        "        if self.neighbors(label1, label2):\n",
        "          self.edges.append(edge([node1, node2]))\n",
        "\n",
        "  def __init__(self, n):\n",
        "      self.n = n \n",
        "      self.number_of_vertices = 2**n\n",
        "\n",
        "      vertex_list = []\n",
        "      # generate vertices\n",
        "      temp = []\n",
        "      for i in range(n+1):\n",
        "        temp = i*str(1) + (n-i)*str(0)\n",
        "        permutations = list((itertools.permutations(temp)))\n",
        "        for elem in set(permutations):\n",
        "          vertex_list.append(vertex(''.join(elem)))\n",
        "      self.vertices = vertex_list\n",
        "      \n",
        "      # generate edges      \n",
        "      self.edges = []\n",
        "      self.generate_edges()\n",
        "      self.number_of_edges = 2**(n-1) * n"
      ],
      "metadata": {
        "id": "lNQXP3AjBy33"
      },
      "execution_count": 2,
      "outputs": []
    },
    {
      "cell_type": "code",
      "source": [
        "class Hypercube():\n",
        "  '''\n",
        "  Creates a Hypercube of dimension n out of two Hypercubes of dimension n-1.\n",
        "  This is needed to create all possible colorings \n",
        "  '''\n",
        "\n",
        "  def __init__(self, cube_0, cube_1):\n",
        "    self.number_of_vertices = cube_0.number_of_vertices * 2\n",
        "    self.number_of_edges = cube_0.number_of_edges * 2 + cube_0.number_of_vertices # jeder Knoten wird mit seiner Kopie verbunden\n",
        "    \n",
        "    # generate vertices\n",
        "    self.vertices = []\n",
        "    self.edges = []\n",
        "\n",
        "    # alle Knoten vorne ne 1 \n",
        "    for i in range(cube_0.number_of_vertices):\n",
        "      cube_0.vertices[i].label = '0'+ cube_0.vertices[i].label # damit müsste es sich auch bei den Kanten schon geändert haben \n",
        "      cube_1.vertices[i].label = '1'+ cube_1.vertices[i].label\n",
        "      self.vertices.append(cube_0.vertices[i])\n",
        "      self.vertices.append(cube_1.vertices[i])\n",
        "      self.edges.append(edge([cube_0.vertices[i],cube_1.vertices[i]]))\n",
        "    self.edges = self.edges + cube_0.edges + cube_1.edges\n",
        "\n"
      ],
      "metadata": {
        "id": "YZ-ryzk_WU0U"
      },
      "execution_count": 3,
      "outputs": []
    },
    {
      "cell_type": "code",
      "source": [
        "graph = Hypercube(CubeGraph(2),CubeGraph(2))\n",
        "#print(graph.n)\n",
        "print(graph.number_of_vertices)\n",
        "for elem in graph.vertices:\n",
        "  print(elem.label)\n",
        "  \n",
        "for elem in graph.edges:\n",
        "  print(elem.vertices[0].label, elem.vertices[1].label)\n",
        "print(len(graph.edges))"
      ],
      "metadata": {
        "colab": {
          "base_uri": "https://localhost:8080/"
        },
        "id": "UTs6XK0QbCZO",
        "outputId": "4e41b430-48b3-427f-d56f-141fa473354f"
      },
      "execution_count": 4,
      "outputs": [
        {
          "output_type": "stream",
          "name": "stdout",
          "text": [
            "8\n",
            "000\n",
            "100\n",
            "001\n",
            "101\n",
            "010\n",
            "110\n",
            "011\n",
            "111\n",
            "000 100\n",
            "001 101\n",
            "010 110\n",
            "011 111\n",
            "000 001\n",
            "000 010\n",
            "001 011\n",
            "010 011\n",
            "100 101\n",
            "100 110\n",
            "101 111\n",
            "110 111\n",
            "12\n"
          ]
        }
      ]
    },
    {
      "cell_type": "code",
      "source": [
        "# generate all possible 2-colorings of Q_n\n",
        "\n",
        "def two_colorings(n):\n",
        "  '''\n",
        "  Creates all possible 2-colorings of Q_n\n",
        "  Output: list of Graph objects whose edges are colored red and blue\n",
        "  '''\n",
        "  # triviale Fälle (nur 1 Objekt erzeugen, braucht nicht auf Isomorphie geprüft werden):\n",
        "  # 0 blaue Kanten, 1 blaue Kante, alle außer einer Kante blau, alle Kanten blau\n",
        "\n",
        "  number_of_edges = 2**(n-1) * n\n",
        "\n",
        "  # erstelle eine liste mit k 'b' und n-k 'r', davon alle Permutationen (set) \n",
        "  # gehe durch Liste, erstelle jeweils einen CubeGraph dessen Kanten so eingefärbt sind\n",
        "\n",
        "  all_colorings = [] # wird z.B. ['brrr', 'brbr', 'bbrr', 'rbrb', 'rrbb', 'brrb', 'rbbr', 'bbbr', 'bbbb']\n",
        "\n",
        "  for i in range(0,number_of_edges+1):\n",
        "    temp = i*'b' + (number_of_edges-i)*'r'\n",
        "    if (number_of_edges-1) > i > 1: \n",
        "      permutations = list((itertools.permutations(temp)))\n",
        "      for elem in set(permutations):\n",
        "            all_colorings.append(''.join(elem))\n",
        "    else:\n",
        "      all_colorings.append(temp)\n",
        "    print(all_colorings)\n",
        "\n",
        "  # aus der colorings liste Kanten-Gefärbte Graphen\n",
        "\n",
        "  two_colorings_list = [] \n",
        "\n",
        "  for coloring in all_colorings:\n",
        "    graph = CubeGraph(n)\n",
        "    for i in range(len(coloring)):\n",
        "      graph.edges[i].color = coloring[i]\n",
        "    two_colorings_list.append(graph)\n",
        "    for j in range(number_of_edges):\n",
        "      print('edge ('+str(graph.edges[j].vertices[0].label)+','+str(graph.edges[j].vertices[1].label)+') color: '+str(graph.edges[j].color))\n",
        "    print('---')\n",
        "\n",
        "  '''\n",
        "  #test\n",
        "  for i in range(len(two_colorings_list)):\n",
        "    print('coloring '+str(i)+': ')\n",
        "    print(all_colorings[i])\n",
        "    for j in range(number_of_edges):\n",
        "      print('edge ('+str(two_colorings_list[i].edges[j].vertices[0].label)+','+str(two_colorings_list[i].edges[j].vertices[1].label)+') color: '+str(two_colorings_list[i].edges[j].color))\n",
        "  '''  "
      ],
      "metadata": {
        "id": "HfXOIeEr6fly"
      },
      "execution_count": 5,
      "outputs": []
    },
    {
      "cell_type": "code",
      "source": [
        "two_colorings(3)"
      ],
      "metadata": {
        "id": "6KR_uz9RTc9_"
      },
      "execution_count": null,
      "outputs": []
    },
    {
      "cell_type": "code",
      "source": [
        "all_colorings = []\n",
        "number_of_edges = 4\n",
        "\n",
        "for i in range(1,number_of_edges+1):\n",
        "  temp = i*'b' + (number_of_edges-i)*'r'\n",
        "  if (number_of_edges-1) > i > 1: \n",
        "    permutations = list((itertools.permutations(temp)))\n",
        "    for elem in set(permutations):\n",
        "          all_colorings.append(''.join(elem))\n",
        "  else:\n",
        "    all_colorings.append(temp)\n",
        "\n",
        "print(all_colorings)"
      ],
      "metadata": {
        "id": "OiqFjcwCAl9e"
      },
      "execution_count": null,
      "outputs": []
    },
    {
      "cell_type": "code",
      "source": [
        "graph = CubeGraph(2)\n",
        "print(graph.n)\n",
        "print(graph.number_of_vertices)\n",
        "for elem in graph.vertices:\n",
        "  print(elem.label)\n",
        "print(len(graph.vertices))\n",
        "for elem in graph.edges:\n",
        "  print(elem.vertices[0].label, elem.vertices[1].label)\n",
        "print(len(graph.edges))"
      ],
      "metadata": {
        "id": "8sLnWIZdqmeG"
      },
      "execution_count": null,
      "outputs": []
    }
  ]
}